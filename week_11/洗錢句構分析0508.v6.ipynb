{
 "cells": [
  {
   "cell_type": "markdown",
   "metadata": {},
   "source": [
    "Run in bash : \n",
    "java -Xmx4g -cp \"*\" edu.stanford.nlp.pipeline.StanfordCoreNLPServer -serverProperties StanfordCoreNLP-chinese.properties -preload tokenize,ssplit,pos,lemma,ner,parse -status_port 9001  -port 9001 -timeout 15000"
   ]
  },
  {
   "cell_type": "markdown",
   "metadata": {},
   "source": [
    "# 匯入packages"
   ]
  },
  {
   "cell_type": "code",
   "execution_count": 29,
   "metadata": {},
   "outputs": [],
   "source": [
    "import jieba \n",
    "from nltk.parse.corenlp import CoreNLPParser\n",
    "parser = CoreNLPParser('http://localhost:9001')\n",
    "from nltk.tree import Tree\n",
    "import numpy as np"
   ]
  },
  {
   "cell_type": "code",
   "execution_count": 110,
   "metadata": {},
   "outputs": [
    {
     "ename": "ImportError",
     "evalue": "cannot import name 'google' from 'google' (unknown location)",
     "output_type": "error",
     "traceback": [
      "\u001b[0;31m---------------------------------------------------------------------------\u001b[0m",
      "\u001b[0;31mImportError\u001b[0m                               Traceback (most recent call last)",
      "\u001b[0;32m<ipython-input-110-aa0adfef8e99>\u001b[0m in \u001b[0;36m<module>\u001b[0;34m\u001b[0m\n\u001b[1;32m      6\u001b[0m \u001b[0;32mimport\u001b[0m \u001b[0mpandas\u001b[0m \u001b[0;32mas\u001b[0m \u001b[0mpd\u001b[0m\u001b[0;34m\u001b[0m\u001b[0;34m\u001b[0m\u001b[0m\n\u001b[1;32m      7\u001b[0m \u001b[0;32mimport\u001b[0m \u001b[0mos\u001b[0m\u001b[0;34m\u001b[0m\u001b[0;34m\u001b[0m\u001b[0m\n\u001b[0;32m----> 8\u001b[0;31m \u001b[0;32mfrom\u001b[0m \u001b[0mgoogle\u001b[0m \u001b[0;32mimport\u001b[0m \u001b[0mgoogle\u001b[0m\u001b[0;34m\u001b[0m\u001b[0;34m\u001b[0m\u001b[0m\n\u001b[0m\u001b[1;32m      9\u001b[0m \u001b[0;32mfrom\u001b[0m \u001b[0mcollections\u001b[0m \u001b[0;32mimport\u001b[0m \u001b[0mCounter\u001b[0m\u001b[0;34m\u001b[0m\u001b[0;34m\u001b[0m\u001b[0m\n\u001b[1;32m     10\u001b[0m \u001b[0;32mimport\u001b[0m \u001b[0mdatetime\u001b[0m\u001b[0;34m\u001b[0m\u001b[0;34m\u001b[0m\u001b[0m\n",
      "\u001b[0;31mImportError\u001b[0m: cannot import name 'google' from 'google' (unknown location)"
     ]
    }
   ],
   "source": [
    "import requests\n",
    "from bs4 import BeautifulSoup\n",
    "from lxml import etree\n",
    "import re\n",
    "import time\n",
    "import pandas as pd\n",
    "import os\n",
    "from google import google\n",
    "from collections import Counter\n",
    "import datetime"
   ]
  },
  {
   "cell_type": "markdown",
   "metadata": {},
   "source": [
    "# 從google上抓出相關連結"
   ]
  },
  {
   "cell_type": "code",
   "execution_count": null,
   "metadata": {},
   "outputs": [],
   "source": [
    "#找出時間的範圍\n",
    "def get_date_range(date_start,date_end):\n",
    "    date = []\n",
    "    start_year = int(date_start.split('/')[0])\n",
    "    start_month = int(date_start.split('/')[1])\n",
    "    start_day = int(date_start.split('/')[2])\n",
    "    end_year = int(date_end.split('/')[0])\n",
    "    end_month = int(date_end.split('/')[1])\n",
    "    end_day = int(date_end.split('/')[2])\n",
    "    date_s = datetime.datetime(start_year,start_month,start_day)\n",
    "    date_e = datetime.datetime(end_year,end_month,end_day)\n",
    "    date_range = date_e - date_s\n",
    "    for i in range(date_range.days+1):\n",
    "        date.append((date_s+datetime.timedelta(days=i)).strftime(\"%Y/%m/%d\"))\n",
    "    return date"
   ]
  },
  {
   "cell_type": "code",
   "execution_count": null,
   "metadata": {},
   "outputs": [],
   "source": [
    "#關鍵字串以及時間\n",
    "def get_google(keyword,date_start,date_end,num_page):\n",
    "    date = get_date_range(date_start,date_end)\n",
    "    search_link = {}\n",
    "    for i in range(len(keyword)):\n",
    "        link_word = []\n",
    "        for j in range(len(date)):\n",
    "            keyword_date = keyword[i]+\" \"+\"\\\"\"+date[j]+\"\\\"\"\n",
    "            search_results = google.search(keyword_date,num_page)\n",
    "            for k in search_results:\n",
    "                link_word.append(k.link)\n",
    "        search_link[keyword[i]] = link_word\n",
    "    return search_link"
   ]
  },
  {
   "cell_type": "code",
   "execution_count": null,
   "metadata": {},
   "outputs": [],
   "source": [
    "keyword = [\"洗錢\",\"金融詐欺\"]\n",
    "s = \"2019/3/15\"\n",
    "e = \"2019/3/17\"\n",
    "link = get_google(keyword,s,e,2)"
   ]
  },
  {
   "cell_type": "markdown",
   "metadata": {},
   "source": [
    "# 從連結抓出相關文章"
   ]
  },
  {
   "cell_type": "code",
   "execution_count": null,
   "metadata": {},
   "outputs": [],
   "source": [
    "def get_html(url):\n",
    "    try:\n",
    "        user_agent = 'Mozilla/5.0'\n",
    "        resp = requests.get(url, headers={'User-Agent': user_agent}, timeout = 30) #回傳為一個request.Response的物件\n",
    "        resp.endcoding = 'utf8'\n",
    "        return resp.text\n",
    "    except:\n",
    "        return 'ERROR'"
   ]
  },
  {
   "cell_type": "code",
   "execution_count": null,
   "metadata": {},
   "outputs": [],
   "source": [
    "def get_all_text(url):\n",
    "    try:\n",
    "        text = get_html(url)\n",
    "        html = etree.HTML(text)\n",
    "        no_use_content = html.xpath('//*/text()')\n",
    "        content = str()\n",
    "        flag = False #不等於中文字的情況\n",
    "        count = 0 #想要找出是句中標點的東西，1代表是在句子中\n",
    "        for i in no_use_content:\n",
    "            for ch in i:\n",
    "                if (u'\\u4e00' >= ch or ch >= u'\\u9fff'):\n",
    "                    count += 1\n",
    "                    flag = False\n",
    "                if (flag == False and count == 1): \n",
    "                    content += ch\n",
    "                if not(u'\\u4e00' >= ch or ch >= u'\\u9fff'):\n",
    "                    count = 0\n",
    "                    flag = True\n",
    "                    content += ch\n",
    "        content = delete_ad_rough(content)\n",
    "        char_list = ['!','?','\\＂','＃','＄','％','＆','＊','＜','＝','＞','\\'','：','；',' ','\\u3000','\\xa0','>','<','_']\n",
    "        for ch in content:\n",
    "            if ch in char_list:\n",
    "                content = content.replace(ch,'')\n",
    "        content = content.replace('\\r', '')\n",
    "        content = content.replace('\\t', '')\n",
    "        content = content.replace('\\n', '')\n",
    "        content = content.replace('\\\"', '')\n",
    "        content = content.replace('：', '')\n",
    "        return content\n",
    "    except:\n",
    "        return \"ERROR\""
   ]
  },
  {
   "cell_type": "code",
   "execution_count": null,
   "metadata": {},
   "outputs": [],
   "source": [
    "#簡易的清除廣告\n",
    "def delete_ad_rough(content,limit_num=10):\n",
    "    content_split = content.split(\" \") #先將字串切割\n",
    "    final_content = str()\n",
    "    for i in content_split:\n",
    "        if len(i)>limit_num:           #若字數大於10則判斷不為廣告\n",
    "            final_content+=\"。\"\n",
    "            final_content+=i\n",
    "    return final_content"
   ]
  },
  {
   "cell_type": "code",
   "execution_count": null,
   "metadata": {},
   "outputs": [],
   "source": [
    "#將文章依關鍵字別寫入檔案中\n",
    "content_list_short = []\n",
    "w = open(\"keyword_file.txt\", 'w',encoding='UTF-8')\n",
    "for i in keyword:\n",
    "    content_list = []\n",
    "    w.write(i)\n",
    "    w.write('\\n')\n",
    "    f = open(i + \".txt\", \"w\",encoding='UTF-8')\n",
    "    for j in link[i]:\n",
    "        text = get_all_text(j)\n",
    "        if text!=\"ERROR\":\n",
    "            content_list.append(text)\n",
    "    for k in range(len(content_list)):\n",
    "        a = content_list[k].strip('。')\n",
    "        f.write(a)\n",
    "        f.write(\"\\n\")\n",
    "    f.close()\n",
    "w.close()"
   ]
  },
  {
   "cell_type": "markdown",
   "metadata": {},
   "source": [
    "# 自檔案讀取文章"
   ]
  },
  {
   "cell_type": "code",
   "execution_count": 30,
   "metadata": {},
   "outputs": [],
   "source": [
    "def read_text():\n",
    "    r = open('test_news.txt', 'r')\n",
    "    text = ''\n",
    "    for i in r:\n",
    "        text += i\n",
    "    sentence = ''\n",
    "    article = []\n",
    "    for i in text:   \n",
    "        if (i != '。') and (i != '\\n'):\n",
    "            sentence += i\n",
    "        else:\n",
    "            if sentence != '':\n",
    "                article.append(sentence)\n",
    "            sentence = ''\n",
    "    return article"
   ]
  },
  {
   "cell_type": "code",
   "execution_count": 7,
   "metadata": {},
   "outputs": [],
   "source": [
    "keyword_list = [\"賄賂\",\"貪污\"]\n",
    "article = read_text()"
   ]
  },
  {
   "cell_type": "code",
   "execution_count": 8,
   "metadata": {},
   "outputs": [
    {
     "name": "stdout",
     "output_type": "stream",
     "text": [
      "['涉收賄數百萬用親友帳戶洗錢\\u3000內政部資訊主任與廠商董座遭聲押', '記者劉昌松／台北報導', '內政部資訊中心主任施明德，涉嫌在移民署資訊組長任內，經手電腦網路相關標案時，收受廠商跨越科技賄賂數百萬元，再疑似利用親友戶頭層層轉帳，躲避追查，台北地檢署11日指揮廉政署將施、以及跨越董事長李奇申約談到案，經漏夜訊問，12日上午7點多，以2人各涉犯貪污等罪嫌重大，有勾串共犯證人之虞為由，向法院聲請羈押禁見', '施明德從2009年起，在移民署擔任資訊組組長，2016年升任內政部資訊中心主任，隔年就遭檢舉，在移民署任內經手的至少7項標案涉及不法，北檢2017年才因他涉嫌入出國自動查驗系桶等多項採購弊案，約談後諭令100萬元交保，當時李奇申也是涉案廠商身分，也被諭令100萬元交保', '檢調持續清查他經手案件發現，2009年「外網安全節能設備」，以及2010年的「電腦設備更新」，疑有相同弊端，且勾稽施明德的金流發現，施疑似利用層層轉帳的方式，把收賄贓款漂白，甚至刻意避開直系血親的戶頭，用其他親友戶頭洗錢，規避追查', '台北地檢署11日指揮廉政署大動作搜索21處，約談施、李，以及施的親友等共13人到案說明後，12日分別依涉嫌貪污等罪，向法院聲請將施、李2人羈押禁見', '桃園地檢署偵辦前桃園縣長吳志揚隨行秘書鄒德道等人涉嫌收受楊梅地區的地主100萬元現金及價值200萬元的BMW案，並居中介紹官員協助土地變更案，今偵查終結，依貪污治罪條例起訴將鄒等人起訴', '\\xa0桃園市楊梅區仁美里有一片農地，地主們希望能透過《產業創新條例》變更為工業園區開發，地主們計算開發成本後，準備聯合出資4億元活動費，也成立「公庫」各自匯款集結5千萬元', '\\xa0其中黃姓地主等人在2012年底開始接觸時任縣長隨行秘書鄒德道（37歲），還致贈一輛價值近2百萬元的BMW及100萬元現金，鄒德道也在該土地變更案中介紹官員讓黃等人熟識並從中協助', '然2014年底，因吳志揚未能連任，鄒德道無從再行使力', '\\xa0案經桃園地檢署肅貪專組檢察官吳宗憲指揮法務部廉政署廉政官、桃園市調處追查，再查出楊梅地政事務所葉姓測量助理（50歲）、桃園市桃園地政事務所宋姓測量助理（45歲）也涉嫌收受地主賄款', '\\xa0桃園地檢署指出，鄒德道為第16任桃園縣縣長隨行機要秘書，黃姓地主等人、係桃園縣楊梅市仁美段178地號等22筆農地之首批投資客']\n"
     ]
    }
   ],
   "source": [
    "print(article)"
   ]
  },
  {
   "cell_type": "markdown",
   "metadata": {},
   "source": [
    "# 使用NER自文章中取出名字"
   ]
  },
  {
   "cell_type": "code",
   "execution_count": null,
   "metadata": {},
   "outputs": [],
   "source": [
    "# %cd /Users/lawrence70726/Desktop/zh-NER-TF-master"
   ]
  },
  {
   "cell_type": "code",
   "execution_count": 9,
   "metadata": {},
   "outputs": [],
   "source": [
    "# %run main.py"
   ]
  },
  {
   "cell_type": "code",
   "execution_count": 10,
   "metadata": {},
   "outputs": [],
   "source": [
    "# name_list "
   ]
  },
  {
   "cell_type": "markdown",
   "metadata": {},
   "source": [
    "# 找出同時包含名字及關鍵字之句子"
   ]
  },
  {
   "cell_type": "code",
   "execution_count": 3,
   "metadata": {},
   "outputs": [],
   "source": [
    "def get_sentence(article,keyword_list,name_list):\n",
    "    sentence_contain_keyword = []\n",
    "    for i in range(len(article)):\n",
    "        for j in range(len(keyword_list)):\n",
    "            if article[i].find(keyword_list[j]) != -1:\n",
    "                sentence_contain_keyword.append(article[i])            \n",
    "    sentence_contain_keyword = set(sentence_contain_keyword)\n",
    "    \n",
    "    sentence_contain_name = []\n",
    "    for i in range(len(article)):\n",
    "        for j in range(len(name_list)):\n",
    "            if article[i].find(name_list[j]) != -1:\n",
    "                sentence_contain_name.append(article[i])            \n",
    "    sentence_contain_name = set(sentence_contain_name)\n",
    "    \n",
    "    sentence_wanted = set(sentence_contain_keyword) & set(sentence_contain_name)\n",
    "    sentence_wanted = list(sentence_wanted)\n",
    "    return sentence_wanted"
   ]
  },
  {
   "cell_type": "code",
   "execution_count": 12,
   "metadata": {},
   "outputs": [],
   "source": [
    "keyword_list = [\"賄賂\",\"貪污\",'洗錢']\n",
    "name_list = [\"劉昌松\",\"施明德\",\"李奇申\",\"鄒德道\",\"吳志揚\",\"吳宗憲\"]\n",
    "sentence_wanted = get_sentence(article, keyword_list, name_list)\n",
    "\n",
    "#name_list 的格式應改成第n個句子有m個人名(n*m)"
   ]
  },
  {
   "cell_type": "code",
   "execution_count": 13,
   "metadata": {},
   "outputs": [
    {
     "name": "stdout",
     "output_type": "stream",
     "text": [
      "['桃園地檢署偵辦前桃園縣長吳志揚隨行秘書鄒德道等人涉嫌收受楊梅地區的地主100萬元現金及價值200萬元的BMW案，並居中介紹官員協助土地變更案，今偵查終結，依貪污治罪條例起訴將鄒等人起訴', '內政部資訊中心主任施明德，涉嫌在移民署資訊組長任內，經手電腦網路相關標案時，收受廠商跨越科技賄賂數百萬元，再疑似利用親友戶頭層層轉帳，躲避追查，台北地檢署11日指揮廉政署將施、以及跨越董事長李奇申約談到案，經漏夜訊問，12日上午7點多，以2人各涉犯貪污等罪嫌重大，有勾串共犯證人之虞為由，向法院聲請羈押禁見', '檢調持續清查他經手案件發現，2009年「外網安全節能設備」，以及2010年的「電腦設備更新」，疑有相同弊端，且勾稽施明德的金流發現，施疑似利用層層轉帳的方式，把收賄贓款漂白，甚至刻意避開直系血親的戶頭，用其他親友戶頭洗錢，規避追查']\n"
     ]
    }
   ],
   "source": [
    "print(sentence_wanted)"
   ]
  },
  {
   "cell_type": "markdown",
   "metadata": {},
   "source": [
    "# 將名字及關鍵字寫入自訂辭典"
   ]
  },
  {
   "cell_type": "code",
   "execution_count": 4,
   "metadata": {},
   "outputs": [],
   "source": [
    "def write_word(word,freq=10):\n",
    "    with open('/Users/lawrence70726/Desktop/CS/user_dict.txt','r') as f:\n",
    "        readword = f.read()\n",
    "        if word not in readword:\n",
    "            with open('/Users/lawrence70726/Desktop/CS/user_dict.txt', 'a') as file:\n",
    "                file.write(\"\\n\"+word+\" \"+str(freq))"
   ]
  },
  {
   "cell_type": "code",
   "execution_count": 15,
   "metadata": {},
   "outputs": [],
   "source": [
    "for i in name_list:\n",
    "    write_word(i)\n",
    "for i in keyword_list:\n",
    "    write_word(i)"
   ]
  },
  {
   "cell_type": "markdown",
   "metadata": {},
   "source": [
    "# 匯入自訂辭典"
   ]
  },
  {
   "cell_type": "code",
   "execution_count": 2,
   "metadata": {},
   "outputs": [
    {
     "name": "stderr",
     "output_type": "stream",
     "text": [
      "Building prefix dict from the default dictionary ...\n",
      "Loading model from cache /var/folders/yk/b3j7ds1j4fg454ccs84nx0c80000gn/T/jieba.cache\n",
      "Loading model cost 1.323 seconds.\n",
      "Prefix dict has been built succesfully.\n"
     ]
    }
   ],
   "source": [
    "jieba.load_userdict(\"/Users/lawrence70726/Desktop/CS/user_dict.txt\")"
   ]
  },
  {
   "cell_type": "markdown",
   "metadata": {},
   "source": [
    "# 用jieba切字並將句子製成樹狀"
   ]
  },
  {
   "cell_type": "code",
   "execution_count": 81,
   "metadata": {},
   "outputs": [],
   "source": [
    "def make_tree(sentence,keyword_list):\n",
    "    token = jieba.cut(sentence, cut_all = False)\n",
    "    flag = 0\n",
    "    token_list = list(token)\n",
    "    for i in keyword_list: \n",
    "        if i in token_list:\n",
    "            flag = 1\n",
    "    if flag!=1:\n",
    "        return None\n",
    "    string = '-'.join(token_list)\n",
    "    jieba_string = list(parser.parse_text(string))\n",
    "    string = str(jieba_string[0]).replace('\\n','')\n",
    "    string = string.replace('(PU -)','')\n",
    "    string = string.split(\" \")\n",
    "    a = str()\n",
    "    for i in string:\n",
    "        if i !=\" \" and i!='':\n",
    "            a += i\n",
    "            a += \" \"\n",
    "    a = a.replace('(PU -)','')\n",
    "    tree = Tree.fromstring(a)\n",
    "    return tree"
   ]
  },
  {
   "cell_type": "code",
   "execution_count": 36,
   "metadata": {
    "scrolled": false
   },
   "outputs": [
    {
     "name": "stdout",
     "output_type": "stream",
     "text": [
      "0\n"
     ]
    }
   ],
   "source": [
    "# For Testing\n",
    "# test_sentence = u'桃園地檢署偵辦前桃園縣長吳志揚隨行秘書鄒德道等人涉嫌收受楊梅地區的地主100萬元現金及價值200萬元的BMW案，並居中介紹官員協助土地變更案，今偵查終結，依貪污治罪條例起訴將鄒等人起訴'\n",
    "# test_sentence = u'王俊凱發現顧立雄指控吳志揚協同鄒德道以及李佳恩涉嫌收受楊梅地區的地主100萬元現金及價值200萬元的BMW案，並居中介紹官員協助貪污洗錢'\n",
    "# test_sentence = u'吳志揚被鄒德道以及王俊凱等人控訴涉嫌洗錢'\n",
    "# test_sentence = u'吳志揚被王俊凱依貪污治罪條例起訴。'\n",
    "# test_sentence = u'王俊凱依照貪污治罪條例起訴顧立雄。'\n",
    "# test_sentence = u'內政部資訊中心主任施明德，涉嫌在移民署資訊組長任內，經手電腦網路相關標案時，收受廠商跨越科技賄賂數百萬元，再疑似利用親友戶頭層層轉帳，躲避追查，台北地檢署11日指揮廉政署將施、以及跨越董事長李奇申約談到案，經漏夜訊問，12日上午7點多，以2人各涉犯貪污等罪嫌重大，有勾串共犯證人之虞為由，向法院聲請羈押禁見'\n",
    "# test_sentence = u'顧立雄參與反洗錢活動'\n",
    "# tree = make_tree(test_sentence,keyword_list)"
   ]
  },
  {
   "cell_type": "code",
   "execution_count": 49,
   "metadata": {
    "scrolled": true
   },
   "outputs": [
    {
     "name": "stdout",
     "output_type": "stream",
     "text": [
      "[Tree('ROOT', [Tree('IP', [Tree('NP', [Tree('NN', ['內政部']), Tree('NP', [Tree('NN', ['資訊']), Tree('NN', ['中心']), Tree('NN', ['主任'])])]), Tree('NP', [Tree('NR', ['施明德'])]), Tree('PU', ['，']), Tree('VP', [Tree('VV', ['涉嫌']), Tree('PP', [Tree('P', ['在']), Tree('NP', [Tree('NN', ['移民']), Tree('NR', ['署資訊']), Tree('NP', [Tree('NR', ['組長'])]), Tree('NR', ['任內']), Tree('PU', ['，']), Tree('PRN', [Tree('IP', [Tree('NP', [Tree('NR', ['經手'])]), Tree('NP', [Tree('NR', ['電腦'])]), Tree('NP', [Tree('NR', ['網路'])]), Tree('NP', [Tree('NR', ['相關'])]), Tree('NP', [Tree('NR', ['標案'])]), Tree('NP', [Tree('NR', ['時'])]), Tree('PU', ['，']), Tree('VP', [Tree('VV', ['收受']), Tree('IP', [Tree('NP', [Tree('NN', ['廠商'])]), Tree('VP', [Tree('VV', ['跨越']), Tree('IP', [Tree('NP', [Tree('NP', [Tree('NN', ['科技'])]), Tree('PRN', [Tree('IP', [Tree('VP', [Tree('VP', [Tree('VV', ['賄賂'])]), Tree('QP', [Tree('CD', ['數百']), Tree('CLP', [Tree('M', ['萬元'])])])])])])]), Tree('PU', ['，']), Tree('ADVP', [Tree('AD', ['再'])]), Tree('VP', [Tree('VP', [Tree('VV', ['疑似'])]), Tree('VP', [Tree('VV', ['利用']), Tree('IP', [Tree('IP', [Tree('VP', [Tree('VP', [Tree('VV', ['親友'])]), Tree('VP', [Tree('VV', ['戶頭'])]), Tree('VP', [Tree('VV', ['層層'])]), Tree('VP', [Tree('VV', ['轉帳'])])])]), Tree('PU', ['，']), Tree('VP', [Tree('VP', [Tree('VV', ['躲避'])]), Tree('VP', [Tree('VV', ['追查'])]), Tree('PU', ['，']), Tree('IP', [Tree('NP', [Tree('NR', ['台北'])]), Tree('VP', [Tree('DVP', [Tree('DEV', ['地'])]), Tree('VP', [Tree('VV', ['檢署']), Tree('IP', [Tree('NP', [Tree('NR', ['-11'])]), Tree('NP', [Tree('NR', ['日'])]), Tree('NP', [Tree('NR', ['指揮'])]), Tree('VP', [Tree('VV', ['廉政']), Tree('IP', [Tree('NP', [Tree('NN', ['署'])]), Tree('IP', [Tree('VP', [Tree('VV', ['將施'])]), Tree('PU', ['、']), Tree('CC', ['以及']), Tree('IP', [Tree('VP', [Tree('VV', ['跨越'])])]), Tree('IP', [Tree('NP', [Tree('NN', ['董事'])]), Tree('VP', [Tree('VV', ['長']), Tree('IP', [Tree('NP', [Tree('NR', ['李奇申'])]), Tree('NP', [Tree('NR', ['約'])]), Tree('NP', [Tree('NR', ['談'])]), Tree('VP', [Tree('VP', [Tree('VV', ['到案'])]), Tree('PU', ['，']), Tree('VP', [Tree('VV', ['經']), Tree('VP', [Tree('VP', [Tree('VV', ['漏夜'])]), Tree('VP', [Tree('VV', ['訊問'])]), Tree('PU', ['，']), Tree('IP', [Tree('NP', [Tree('NP', [Tree('NR', ['-12'])]), Tree('NP', [Tree('NR', ['日'])])]), Tree('NP', [Tree('NT', ['上午'])]), Tree('QP', [Tree('QP', [Tree('CD', ['7'])]), Tree('QP', [Tree('CD', ['點多'])])]), Tree('PU', ['，']), Tree('VP', [Tree('PP', [Tree('P', ['以']), Tree('IP', [Tree('QP', [Tree('CD', ['2'])]), Tree('NP', [Tree('NN', ['人'])]), Tree('IP', [Tree('NP', [Tree('DP', [Tree('DT', ['各'])]), Tree('NP', [Tree('VV', ['涉'])])]), Tree('VP', [Tree('VV', ['犯'])])]), Tree('NP', [Tree('ADJP', [Tree('JJ', ['貪污'])]), Tree('ETC', ['等'])]), Tree('NP', [Tree('NN', ['罪嫌'])]), Tree('ADJP', [Tree('JJ', ['重大'])]), Tree('PU', ['，']), Tree('VP', [Tree('VE', ['有']), Tree('IP', [Tree('ADJP', [Tree('JJ', ['勾串'])]), Tree('NP', [Tree('NN', ['共犯'])]), Tree('DNP', [Tree('NP', [Tree('NN', ['證人'])]), Tree('DEG', ['之'])]), Tree('NP', [Tree('NN', ['虞'])]), Tree('VP', [Tree('VP', [Tree('VV', ['為'])]), Tree('PP', [Tree('P', ['由']), Tree('PU', ['，']), Tree('IP', [Tree('PP', [Tree('P', ['向']), Tree('NP', [Tree('NN', ['法院'])]), Tree('NP', [Tree('NR', ['聲請'])])]), Tree('VP', [Tree('NP', [Tree('NP', [Tree('NR', ['羈'])]), Tree('NP', [Tree('NR', ['押禁'])]), Tree('NP', [Tree('NR', ['見'])])])])])])])])])])])])])])])])])])])])])])])])])])])])])])])])])])])])])])])])]), Tree('ROOT', [Tree('IP', [Tree('IP', [Tree('NP', [Tree('NR', ['檢調'])]), Tree('NP', [Tree('NR', ['持續'])]), Tree('VP', [Tree('VV', ['清查'])])]), Tree('IP', [Tree('NP', [Tree('PN', ['他'])]), Tree('VP', [Tree('VV', ['經手']), Tree('IP', [Tree('NP', [Tree('NN', ['案件'])]), Tree('VP', [Tree('VP', [Tree('VV', ['發現'])]), Tree('PU', ['，']), Tree('IP', [Tree('NP', [Tree('NT', ['2009-年'])]), Tree('PU', ['「']), Tree('NP', [Tree('NN', ['外網'])]), Tree('NP', [Tree('NN', ['安全'])]), Tree('NP', [Tree('ADJP', [Tree('JJ', ['節能'])]), Tree('ADJP', [Tree('JJ', ['設備'])]), Tree('PU', ['」'])]), Tree('PU', ['，']), Tree('CC', ['以及']), Tree('DNP', [Tree('NP', [Tree('NT', ['2010-年'])]), Tree('DEC', ['的'])]), Tree('IP', [Tree('IP', [Tree('IP', [Tree('PU', ['「']), Tree('NP', [Tree('NR', ['電腦'])]), Tree('NP', [Tree('NR', ['設備'])]), Tree('VP', [Tree('VV', ['更新'])])]), Tree('PU', ['」']), Tree('PU', ['，']), Tree('VP', [Tree('VV', ['疑有']), Tree('NP', [Tree('ADJP', [Tree('JJ', ['相同'])]), Tree('NP', [Tree('NN', ['弊端'])])])])]), Tree('PU', ['，']), Tree('IP', [Tree('ADVP', [Tree('AD', ['且'])]), Tree('VP', [Tree('VV', ['勾稽']), Tree('IP', [Tree('DNP', [Tree('NP', [Tree('NR', ['施明德'])]), Tree('DEG', ['的'])]), Tree('NP', [Tree('NR', ['金流'])]), Tree('NP', [Tree('NR', ['發現'])]), Tree('PU', ['，']), Tree('VP', [Tree('VV', ['施']), Tree('VP', [Tree('VP', [Tree('VV', ['疑似'])]), Tree('IP', [Tree('VV', ['利用']), Tree('NP', [Tree('CP', [Tree('IP', [Tree('VP', [Tree('VP', [Tree('VV', ['層層'])]), Tree('VP', [Tree('VV', ['轉帳'])])])]), Tree('DEC', ['的'])]), Tree('NP', [Tree('NN', ['方式'])])]), Tree('PU', ['，']), Tree('VP', [Tree('BA', ['把']), Tree('IP', [Tree('VP', [Tree('VP', [Tree('VV', ['收賄'])]), Tree('VP', [Tree('VP', [Tree('VV', ['贓款'])]), Tree('VP', [Tree('ADJP', [Tree('JJ', ['漂白'])]), Tree('VP', [Tree('PU', ['，']), Tree('VP', [Tree('ADVP', [Tree('AD', ['甚至'])]), Tree('IP', [Tree('VP', [Tree('ADVP', [Tree('AD', ['刻意'])]), Tree('VP', [Tree('VV', ['避開'])])]), Tree('JJ', ['直系']), Tree('IP', [Tree('DNP', [Tree('ADJP', [Tree('JJ', ['血親'])]), Tree('DEG', ['的'])]), Tree('ADJP', [Tree('JJ', ['戶頭'])]), Tree('PU', ['，']), Tree('PP', [Tree('P', ['用']), Tree('IP', [Tree('DP', [Tree('DT', ['其他'])]), Tree('VP', [Tree('VV', ['親友']), Tree('VP', [Tree('VP', [Tree('VV', ['戶頭'])]), Tree('VP', [Tree('VV', ['洗錢'])]), Tree('PU', ['，']), Tree('IP', [Tree('VP', [Tree('VP', [Tree('VV', ['規避'])]), Tree('VP', [Tree('VV', ['追查'])])])])])])])])])])])])])])])])])])])])])])])])])])])])])])])]\n"
     ]
    }
   ],
   "source": [
    "print(tree_list)"
   ]
  },
  {
   "cell_type": "code",
   "execution_count": null,
   "metadata": {
    "scrolled": true
   },
   "outputs": [],
   "source": [
    "# tree.pretty_print()\n",
    "for i in tree_list:\n",
    "    i.pretty_print()\n",
    "    print('\\n---------------------------------------------------------------------\\n')"
   ]
  },
  {
   "cell_type": "code",
   "execution_count": null,
   "metadata": {
    "scrolled": true
   },
   "outputs": [],
   "source": [
    "# print(tree)\n",
    "for i in tree_list:\n",
    "    print(i)\n",
    "    print('\\n---------------------------------------------------------------------\\n')"
   ]
  },
  {
   "cell_type": "code",
   "execution_count": 47,
   "metadata": {
    "scrolled": true
   },
   "outputs": [],
   "source": [
    "# tree.draw()\n",
    "for i in tree_list:\n",
    "    i.draw()"
   ]
  },
  {
   "cell_type": "markdown",
   "metadata": {},
   "source": [
    "# 判斷"
   ]
  },
  {
   "cell_type": "code",
   "execution_count": 6,
   "metadata": {},
   "outputs": [],
   "source": [
    "def count_distance(string_tree,from_leaf,to_leaf):\n",
    "    try:\n",
    "        tree_pos = string_tree.treepositions('leaves')\n",
    "        find_node = ()\n",
    "        for i in tree_pos:\n",
    "            if string_tree[i]==from_leaf:\n",
    "                from_leaf_idx = i\n",
    "            elif string_tree[i]==to_leaf:\n",
    "                to_leaf_idx = i\n",
    "        length = len(from_leaf_idx) if len(from_leaf_idx)<len(to_leaf_idx) else len(to_leaf_idx)\n",
    "        for i in range(length):\n",
    "            if from_leaf_idx[i]==to_leaf_idx[i]:\n",
    "                find_node += (from_leaf_idx[i],)\n",
    "            else:\n",
    "                break\n",
    "        length_from_leaf = len(from_leaf_idx) - len(find_node)\n",
    "        length_to_leaf = len(to_leaf_idx) - len(find_node)\n",
    "        return length_from_leaf+length_to_leaf\n",
    "    except:\n",
    "        return 'Error'"
   ]
  },
  {
   "cell_type": "code",
   "execution_count": 7,
   "metadata": {},
   "outputs": [],
   "source": [
    "def find_idx(string_tree,name):\n",
    "    tree_pos = string_tree.treepositions('leaves')\n",
    "    for i in tree_pos:\n",
    "        if string_tree[i]==name:\n",
    "            name_idx = i\n",
    "    return name_idx"
   ]
  },
  {
   "cell_type": "code",
   "execution_count": 8,
   "metadata": {},
   "outputs": [],
   "source": [
    "def is_same_label(tree, name_1,name_2):\n",
    "    name1 = find_idx(tree,name_1)\n",
    "    name2 = find_idx(tree,name_2)\n",
    "    find_node_1 = []\n",
    "    find_node_2 = []\n",
    "    for i in range(len(name1)):\n",
    "        if name1[i] == name2[i]:\n",
    "            find_node_1 += [name1[i]]\n",
    "            find_node_2 += [name2[i]]\n",
    "        else:\n",
    "            find_node_1 += [name1[i]]\n",
    "            find_node_2 += [name2[i]]\n",
    "            break\n",
    "    if (tree[find_node_1].label() == 'NP' and tree[find_node_2].label() == 'NP') or (tree[find_node_1].label() == 'IP' and tree[find_node_2].label() == 'IP'):\n",
    "        return True\n",
    "    else:\n",
    "        return False"
   ]
  },
  {
   "cell_type": "code",
   "execution_count": 9,
   "metadata": {},
   "outputs": [],
   "source": [
    "def is_leaf(tree,word):\n",
    "    tree_pos = tree.treepositions('leaves')\n",
    "    for i in tree_pos:\n",
    "        if tree[i]==word:\n",
    "            return True\n",
    "    return False"
   ]
  },
  {
   "cell_type": "code",
   "execution_count": 59,
   "metadata": {},
   "outputs": [],
   "source": [
    "def find_bad(tree, name_list, keyword_list):\n",
    "    try:\n",
    "        name_bad = {}\n",
    "        distance_list = []\n",
    "        closest_name_list = []\n",
    "        if tree==None:\n",
    "            return None\n",
    "        for i in keyword_list:\n",
    "            if is_leaf(tree,i):\n",
    "                keyword = i\n",
    "        if len(name_list) > 1:\n",
    "            for idx, i in enumerate(name_list):\n",
    "#                 name_bad[i] = False\n",
    "                distance_list.append(count_distance(tree,i,keyword))\n",
    "#                 if distance_list[idx]=='Error':\n",
    "#                     name_bad[i] = None\n",
    "#             if all(i=='Error' for i in distance_list):\n",
    "#                 return closest_name_list\n",
    "            minidx = np.argmin(distance_list)\n",
    "            print(\"minidx= \",minidx)\n",
    "            for i in range(len(name_list)):\n",
    "                if i != minidx:\n",
    "                    dist1 = count_distance(tree,name_list[minidx],keyword)\n",
    "                    dist2 = count_distance(tree,name_list[i],keyword)\n",
    "                    if dist2=='Error':\n",
    "                        continue\n",
    "                    elif dist1 != dist2:\n",
    "                        if is_same_label(tree,name_list[minidx],name_list[i]):\n",
    "                            name_bad[name_list[i]] = True\n",
    "                    else:\n",
    "                        name_bad[name_list[i]] = True\n",
    "                name_bad[name_list[minidx]] = True\n",
    "            for i in name_bad.items():\n",
    "                if i[1]==True:\n",
    "                    closest_name_list.append(i[0])\n",
    "        else:\n",
    "            closest_name_list.append(name_list[0])\n",
    "        return closest_name_list\n",
    "    except:\n",
    "        return 'Error'\n"
   ]
  },
  {
   "cell_type": "code",
   "execution_count": 48,
   "metadata": {},
   "outputs": [],
   "source": [
    "def judge_active_verb(verb):\n",
    "    r1 = open('money_laundring_verb.txt', 'r')\n",
    "    verb_list = []\n",
    "    for i in r1:\n",
    "        verb_list.append(i.strip())\n",
    "    proved_verb = \"n\"\n",
    "    if verb in verb_list:\n",
    "        proved_verb = \"y\"\n",
    "    r1.close()\n",
    "    return proved_verb"
   ]
  },
  {
   "cell_type": "code",
   "execution_count": 49,
   "metadata": {},
   "outputs": [],
   "source": [
    "def judge_passive_verb(verb):\n",
    "    r1 = open('money_laundring_passive_verb.txt', 'r')\n",
    "    verb_list = []\n",
    "    for i in r1:\n",
    "        verb_list.append(i.strip())\n",
    "    proved_verb = \"n\"\n",
    "    if verb in verb_list:\n",
    "        proved_verb = \"y\"\n",
    "    r1.close()\n",
    "    return proved_verb"
   ]
  },
  {
   "cell_type": "code",
   "execution_count": 99,
   "metadata": {},
   "outputs": [],
   "source": [
    "def judge_sentence(tree,show_name, closest_criminal_list, keyword_list):\n",
    "    #函數用來判斷句構是否是：名字 +廢字+ 動詞（有洗錢嫌疑的動詞） + 關鍵字/包含關鍵字的子句或廢字\n",
    "    if len(closest_criminal_list) != 0:\n",
    "        closest_criminal = closest_criminal_list[-1]\n",
    "    try:\n",
    "        leaves_upper_node_indexs = []\n",
    "        for i in tree.treepositions('leaves'):#treepositions('leaves')的list裡面是tuple\n",
    "            index = []\n",
    "            for j in range(len(i)-1):\n",
    "                index.append(i[j])\n",
    "            index = tuple(index)\n",
    "            leaves_upper_node_indexs.append(index)\n",
    "        words_and_tags = []\n",
    "        for i in leaves_upper_node_indexs:\n",
    "            words_and_tags.append(str(tree[i]).strip(\"(\").strip(\")\").split(\" \"))\n",
    "        #print(words_and_tags)#每一個項目長這樣： ['NR', '桃園']\n",
    "        #找出離名字最近的動詞(這裡可能之後會有問題，但在句中離名字最近會比用樹的距離來判斷好)\n",
    "\n",
    "        #檢查是否名字在受詞\n",
    "        passive = False\n",
    "        closest_criminal_index = 0\n",
    "        keyword_index = 0\n",
    "        how_close = 10000\n",
    "        for i in words_and_tags:\n",
    "            if i[1] == closest_criminal:\n",
    "                closest_criminal_index = words_and_tags.index(i)\n",
    "                break\n",
    "        for i in words_and_tags:\n",
    "            for j in keyword_list:\n",
    "                if i[1] == j and abs(keyword_index - closest_criminal_index) < how_close :\n",
    "                    keyword_index = words_and_tags.index(i)\n",
    "                    how_close = abs(keyword_index - closest_criminal_index)\n",
    "        if keyword_index < closest_criminal_index:\n",
    "            passive = True\n",
    "\n",
    "\n",
    "        #若名字在敘事句的主詞位置\n",
    "        if passive == False:\n",
    "            name_flag = 0 #假設前面沒有出現過那個名字（一般一個敘事句會提到兩次同個人名字的可能比較小）\n",
    "            bad_sentence = False\n",
    "            v = ''\n",
    "            pass_word = 0\n",
    "            pass_word_list = []\n",
    "            for i in words_and_tags:\n",
    "                if i[1] == closest_criminal:\n",
    "                    name_flag += 1\n",
    "                if name_flag == 1:#目的是判斷現在句子位置在要找的人名之後\n",
    "                    if i[0] == 'VV':\n",
    "                        v = i[1]\n",
    "                        if judge_active_verb(v) == 'y':\n",
    "                            bad_sentence = True\n",
    "                        break\n",
    "                    else:\n",
    "                        pass_word_list.append(i[1])\n",
    "            pass_word = len(pass_word_list)\n",
    "\n",
    "        #若名字在敘事句的受詞位置（往回查找）\n",
    "        if passive == True:\n",
    "            bad_sentence = False\n",
    "            v = ''\n",
    "            pass_word = 0\n",
    "            pass_word_list = []\n",
    "            for i in range(closest_criminal_index):\n",
    "                if words_and_tags[-(len(words_and_tags)-closest_criminal_index)+(-i)][0] == 'VV':\n",
    "                    v = words_and_tags[-(len(words_and_tags)-closest_criminal_index)+(-i)][1]\n",
    "                    if judge_passive_verb(v) == \"y\":\n",
    "                        bad_sentence = True\n",
    "                    break\n",
    "                else:\n",
    "                    pass_word_list.append(words_and_tags[-(len(words_and_tags)-closest_criminal_index)+(-i)][1])\n",
    "            pass_word = len(pass_word_list)\n",
    "        name_and_status = dict()\n",
    "        for j in show_name:\n",
    "                name_and_status[j] = False\n",
    "        for i in closest_criminal_list:\n",
    "            name_and_status[i] = bad_sentence\n",
    "    except:\n",
    "        name_and_status = \"ERROR\"\n",
    "    return name_and_status#[bad_sentence, v, pass_word, pass_word_list]"
   ]
  },
  {
   "cell_type": "code",
   "execution_count": 46,
   "metadata": {
    "scrolled": true
   },
   "outputs": [
    {
     "name": "stdout",
     "output_type": "stream",
     "text": [
      "['王俊凱', '顧立雄']\n",
      "['Not certain', '', 2, ['。']]\n"
     ]
    }
   ],
   "source": [
    "# keyword = \"貪污\"\n",
    "# name_list = [\"李佳恩\",\"地檢署\",\"吳志揚\",\"鄒德道\",\"王俊凱\",\"顧立雄\",\"施明德\",\"李奇申\"]\n",
    "# name_bad = find_bad(tree,name_list,keyword)\n",
    "# print(name_bad)\n",
    "# print(judge_sentence(tree,name_bad))"
   ]
  },
  {
   "cell_type": "markdown",
   "metadata": {},
   "source": [
    "# 計算正確率"
   ]
  },
  {
   "cell_type": "code",
   "execution_count": 106,
   "metadata": {},
   "outputs": [],
   "source": [
    "def evaluate_accuracy(show_name, name_dict, ans_dict):\n",
    "    accuracy=0\n",
    "    for j in range(len(name_dict)):\n",
    "        flag=0\n",
    "        for i in show_name[j]:\n",
    "            if name_dict[j][i]!=ans_dict[j][i]:\n",
    "                flag=0\n",
    "                break\n",
    "            flag=1\n",
    "        accuracy+=flag\n",
    "    return accuracy/float(len(name_dict))  "
   ]
  },
  {
   "cell_type": "markdown",
   "metadata": {},
   "source": [
    "# 資料測試"
   ]
  },
  {
   "cell_type": "code",
   "execution_count": 107,
   "metadata": {},
   "outputs": [],
   "source": [
    "def organize_data():\n",
    "    #整理測試資料\n",
    "    text_data = []\n",
    "    with open('洗錢測試50句資料csv.csv','r') as r3:\n",
    "        for i in r3:\n",
    "            text_data.append(i.strip())\n",
    "    text_data.remove(text_data[0])\n",
    "    text_data1 = []\n",
    "    for i in text_data:\n",
    "        text_data1.append(i.split(\",\"))\n",
    "\n",
    "    for i in range(len(text_data1)):\n",
    "        text_data1[i][1] = text_data1[i][1].split(\"，\")\n",
    "        text_data1[i][0] = text_data1[i][0].split(\"，\")\n",
    "    sentence_wanted = [text_data1[i][2] for i in range(len(text_data1))]\n",
    "    show_name = []\n",
    "    for i in range(len(text_data1)):\n",
    "        show_name.append(text_data1[i][1])\n",
    "    ans_dict = []\n",
    "    for i in range(len(text_data1)):\n",
    "        answer_dict = dict()\n",
    "        for j in text_data1[i][0]:\n",
    "            if j in answer_dict:\n",
    "                no_use = 0\n",
    "            else:\n",
    "                answer_dict[j] = True\n",
    "\n",
    "        for k in text_data1[i][1]:\n",
    "            if k in answer_dict:\n",
    "                no_use = 0\n",
    "            else:\n",
    "                answer_dict[k] = False\n",
    "        #del answer_dict[\"無\"] \n",
    "        if \"無\" in answer_dict:\n",
    "            del answer_dict[\"無\"]\n",
    "        ans_dict.append(answer_dict)\n",
    "   \n",
    "    return sentence_wanted, show_name, ans_dict"
   ]
  },
  {
   "cell_type": "markdown",
   "metadata": {},
   "source": [
    "# Main"
   ]
  },
  {
   "cell_type": "code",
   "execution_count": 108,
   "metadata": {},
   "outputs": [],
   "source": [
    "def demo():\n",
    "    try:\n",
    "        keyword_list = [\"賄賂\",\"貪污\", \"洗錢\", \"詐欺\", \"境外轉帳\", \"詐騙\"]\n",
    "        sentence_wanted, show_name, ans_dict = organize_data()\n",
    "        name_dict = []\n",
    "        #加入結巴詞庫\n",
    "        for i in show_name:\n",
    "            for j in i:\n",
    "                write_word(j)\n",
    "\n",
    "        for i in keyword_list:\n",
    "            write_word(i)\n",
    "        #讀取結巴\n",
    "        jieba.load_userdict(\"/Users/lawrence70726/Desktop/CS/user_dict.txt\")\n",
    "        for i,sentence in enumerate(sentence_wanted):\n",
    "            parser = CoreNLPParser('http://localhost:9001')\n",
    "            name = {}\n",
    "            tree = make_tree(sentence,keyword_list)\n",
    "            if tree==None:\n",
    "                closest_name_list = find_bad(tree, show_name[i], keyword_list)\n",
    "            if closest_name_list == None:\n",
    "                for j in show_name[i]:\n",
    "                    name[j] = False\n",
    "            else:\n",
    "                name = judge_sentence(tree, show_name[i],closest_name_list, keyword_list)\n",
    "            name_dict.append(name)\n",
    "        accuracy = evaluate_accuracy(show_name,name_dict,ans_dict)\n",
    "        print(\"Accuracy= \",accuracy)   \n",
    "        return name_dict\n",
    "    except:\n",
    "        print(\"Error :(((\")"
   ]
  },
  {
   "cell_type": "code",
   "execution_count": 109,
   "metadata": {
    "scrolled": true
   },
   "outputs": [
    {
     "name": "stdout",
     "output_type": "stream",
     "text": [
      "Accuracy=  0.5934959349593496\n"
     ]
    }
   ],
   "source": [
    "#main\n",
    "name_dict = demo()"
   ]
  },
  {
   "cell_type": "markdown",
   "metadata": {},
   "source": [
    "# 待解決事項：\n",
    "* 被動式要進行修正（例如：test_sentence = u'吳志揚被鄒德道以及王俊凱等人控訴涉嫌洗錢'）\n",
    "* 若距離皆一樣，但意思不一樣（例如：test_sentence = u'吳志揚被鄒德道以及王俊凱等人控訴涉嫌洗錢'）\n",
    "* 子句中有負面的詞語\n",
    "* 取得句子時即標記其keyword_list和name_list以節省後面運算的時間\n",
    "* NER模組擺進去\n",
    "* 擴充反洗錢條例相關字典"
   ]
  },
  {
   "cell_type": "code",
   "execution_count": null,
   "metadata": {},
   "outputs": [],
   "source": []
  }
 ],
 "metadata": {
  "kernelspec": {
   "display_name": "Python 3",
   "language": "python",
   "name": "python3"
  },
  "language_info": {
   "codemirror_mode": {
    "name": "ipython",
    "version": 3
   },
   "file_extension": ".py",
   "mimetype": "text/x-python",
   "name": "python",
   "nbconvert_exporter": "python",
   "pygments_lexer": "ipython3",
   "version": "3.7.3"
  },
  "varInspector": {
   "cols": {
    "lenName": 16,
    "lenType": 16,
    "lenVar": 40
   },
   "kernels_config": {
    "python": {
     "delete_cmd_postfix": "",
     "delete_cmd_prefix": "del ",
     "library": "var_list.py",
     "varRefreshCmd": "print(var_dic_list())"
    },
    "r": {
     "delete_cmd_postfix": ") ",
     "delete_cmd_prefix": "rm(",
     "library": "var_list.r",
     "varRefreshCmd": "cat(var_dic_list()) "
    }
   },
   "types_to_exclude": [
    "module",
    "function",
    "builtin_function_or_method",
    "instance",
    "_Feature"
   ],
   "window_display": false
  }
 },
 "nbformat": 4,
 "nbformat_minor": 2
}
